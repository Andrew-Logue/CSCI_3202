{
 "cells": [
  {
   "cell_type": "markdown",
   "metadata": {},
   "source": [
    "# CSCI 3202, Spring 2024: Final Practicum\n",
    "\n",
    "---\n",
    "\n",
    "\n",
    "This practicum is due on Gradescope by **12:00 PM (NOON) on Sunday May 5**.  Your solutions to theoretical questions should be done in Markdown/LateX directly below the associated question. Your solutions to computational questions should include any relevant Python code, as well as results and any written commentary.\n",
    "\n",
    "\n",
    "1. All work, code and analysis must be **your own**.\n",
    "1. You may use your course notes, posted lecture slides, textbook, in-class notebooks and homework solutions as resources.  You may also search online for answers to general knowledge questions, like the form of a probability distribution function, or how to perform a particular operation in Python.\n",
    "1. You may **not** post to message boards or other online resources asking for help.\n",
    "1. **You may not collaborate with classmates or anyone else.**\n",
    "1. This is meant to be like a coding portion of your final exam. So, I will be much less helpful than I typically am with homework. For example, I will not check answers, help debug your code, and so on.\n",
    "1. If you have a question, post it first as a **private** Piazza message. If I decide that it is appropriate for the entire class, then I will make it a public post (and anonymous).\n",
    "1. If something is left open-ended, it is probably because I intend for you to code it up however you want, and only care about the plots/analysis I see at the end. Feel free to ask clarifying questions though.\n",
    "\n",
    "Violation of these rules will result in an **F** and a trip to the Honor Code council.\n",
    "\n",
    "---\n",
    "**By writing your name below, you agree to abide by these rules:**\n",
    "\n",
    "**Your name:** Andrew Logue\n",
    "\n",
    "---\n",
    "\n"
   ]
  },
  {
   "cell_type": "code",
   "execution_count": 1,
   "metadata": {},
   "outputs": [],
   "source": [
    "import pandas as pd\n",
    "import numpy as np\n",
    "import scipy.stats as stats\n",
    "import matplotlib.pyplot as plt\n",
    "from collections import defaultdict\n",
    "import random\n",
    "\n",
    "# added packages\n",
    "import heapq\n",
    "from matplotlib import colors"
   ]
  },
  {
   "cell_type": "markdown",
   "metadata": {},
   "source": [
    "\n",
    "\n",
    "---\n",
    "## [100 pts] Problem 1:  Reinforcement learning\n",
    "\n",
    "Consider a **cube** state space defined by $0 \\le x, y, z \\le L$. Suppose you are piloting/programming a drone to learn how to land on a platform at the center of the $z=0$ surface (the bottom). Some assumptions:\n",
    "* In this discrete world, if I say the drone is at $(x,y,z)$ I mean that it is in the box centered at $(x,y,z)$. And there are boxes (states) centered at $(x,y,z)$ for all $0 \\le x,y,z \\le L$. Each state is a 1 unit cube. So when $L=2$ (for example), there are cubes centered at each $x=0,1,2$, $y=0,1,2$ and so on, for a total state space size of $3^3 = 27$ states.\n",
    "* All of the states with $z=0$ are terminal states.\n",
    "* The state at the center of the bottom of the cubic state space is the landing pad. So, for example, when $L=4$, the landing pad is at $(x,y,z) = (2,2,0)$.\n",
    "* All terminal states ***except*** the landing pad have a reward of -1. The landing pad has a reward of +1.\n",
    "* All non-terminal states have a reward of -0.01.\n",
    "* The drone takes up exactly 1 cubic unit, and begins in a random non-terminal state.\n",
    "* The available actions in non-terminal states include moving exactly 1 unit Up (+z), Down (-z), North (+y), South (-y), East (+x) or West (-x). In a terminal state, the training episode should end."
   ]
  },
  {
   "cell_type": "markdown",
   "metadata": {},
   "source": [
    "#### Part A\n",
    "Write a class `MDPLanding` to represent the Markov decision process for this drone. Include methods for:\n",
    "1. `actions(state)`, which should return a list of all actions available from the given state\n",
    "2. `reward(state)`, which should return the reward for the given state\n",
    "3. `result(state, action)`, which should return the resulting state of doing the given action in the given state\n",
    "\n",
    "and attributes for:\n",
    "1. `states`, which is just a list of all the states in the state space, where each state is represented as an $(x,y,z)$ tuple\n",
    "2. `terminal_states`, a dictionary where keys are the terminal state tuples and the values are the rewards associated with those terminal states\n",
    "3. `default_reward`, which is a scalar for the reward associated with non-terminal states\n",
    "4. `all_actions`, a list of all possible actions (Up, Down, North, South, East, West)\n",
    "5. `discount`, the discount factor (use $\\gamma = 0.999$ for this entire problem)\n",
    "\n",
    "How you feed arguments/information into the class constructor is up to you.\n",
    "\n",
    "Note that actions are *deterministic* here.  The drone does not need to learn transition probabilities for outcomes of particular actions. What the drone does need to learn, however, is where the heck that landing pad is, and how to get there from any initial state."
   ]
  },
  {
   "cell_type": "code",
   "execution_count": 2,
   "metadata": {},
   "outputs": [],
   "source": [
    "class MDPLanding:    \n",
    "    def __init__(self, L):\n",
    "        'Create attributes'\n",
    "        self.L = L\n",
    "        self.states = [(x, y, z) for x in range(L+1) for y in range(L+1) for z in range(L+1)]\n",
    "        self.terminal_states = {}\n",
    "        for i in self.states:\n",
    "            if i[2] == 0:\n",
    "                if (i[0] == L//2 and i[1] == L//2):\n",
    "                    self.terminal_states[i] = 1\n",
    "                else:\n",
    "                    self.terminal_states[i] = -1\n",
    "        self.default_reward = -0.01\n",
    "        self.all_actions = ['Up', 'Down', 'North', 'South', 'East', 'West']\n",
    "        self.discount = 0.999\n",
    "\n",
    "    def actions(self, state):\n",
    "        'return a list of all actions available from the given state'\n",
    "        x, y, z = state\n",
    "        actions = []\n",
    "        if z != self.L:\n",
    "            actions.append(self.all_actions[0])\n",
    "        if z != 0:\n",
    "            actions.append(self.all_actions[1])\n",
    "        if y != self.L:\n",
    "            actions.append(self.all_actions[2])\n",
    "        if y != 0:\n",
    "            actions.append(self.all_actions[3])\n",
    "        if x != self.L:\n",
    "            actions.append(self.all_actions[4])\n",
    "        if x != 0:\n",
    "            actions.append(self.all_actions[5])\n",
    "            \n",
    "        return actions\n",
    "\n",
    "    def reward(self, state):\n",
    "        'return the reward for the given state'\n",
    "        if state in self.terminal_states:\n",
    "            return self.terminal_states.get(state)\n",
    "        else:\n",
    "            return self.default_reward\n",
    "        \n",
    "        \n",
    "    def result(self, state, action):\n",
    "        'return the resulting state of doing the given action in the given state'\n",
    "        x, y, z = state\n",
    "        if action not in self.actions(state):\n",
    "            return state\n",
    "        elif action == 'Up':\n",
    "            return (x, y, z+1)\n",
    "        elif action == 'Down':\n",
    "            return (x, y, z-1)\n",
    "        elif action == 'North':\n",
    "            return (x, y+1, z)\n",
    "        elif action == 'South':\n",
    "            return (x, y-1, z)\n",
    "        elif action == 'East':\n",
    "            return (x+1, y, z)\n",
    "        elif action == 'West':\n",
    "            return (x-1, y, z)\n"
   ]
  },
  {
   "cell_type": "markdown",
   "metadata": {},
   "source": [
    "#### Part B\n",
    "Write a function to implement **policy iteration** for this drone landing MDP. Create an MDP environment to represent the $L=4$ case (so 125 total states).\n",
    "\n",
    "Use your function to find an optimal policy for your new MDP environment. Check (by printing to screen) that the policy for the following states are what you expect, and comment on the results:\n",
    "1. $(2,2,1)$\n",
    "1. $(0,2,1)$\n",
    "1. $(2,0,1)$"
   ]
  },
  {
   "cell_type": "code",
   "execution_count": 3,
   "metadata": {},
   "outputs": [
    {
     "name": "stdout",
     "output_type": "stream",
     "text": [
      "Policy for state (2,2,1): Down\n",
      "Policy for state (0,2,1): East\n",
      "Policy for state (2,0,1): North\n"
     ]
    }
   ],
   "source": [
    "def policy_iteration(MDP):\n",
    "    # Initialize utility for all states\n",
    "    utility = {state: 0 for state in MDP.states}\n",
    "    \n",
    "    # Initialize a policy for each state, being a random action\n",
    "    policy = {state: random.choice(MDP.actions(state)) for state in MDP.states}\n",
    "    \n",
    "    # iterate:\n",
    "    for _ in range(5):\n",
    "        # update utility, using policy_evaluation and current estimates of utility and policy\n",
    "        utility = policy_evaluation(policy, utility, MDP, n_iter=5)\n",
    "        # initialize unchnaged = True\n",
    "        unchnaged = True\n",
    "        \n",
    "        # for each state s:\n",
    "        for s in MDP.states:\n",
    "            # among the possible actions, which yields the maximum expected utility?\n",
    "            max_utility = -999\n",
    "            best_action = None\n",
    "            for action in MDP.actions(s):\n",
    "                action_utility = sum((next_state == MDP.result(s, action)) * utility[next_state] for next_state in MDP.states)\n",
    "                if action_utility > max_utility:\n",
    "                    max_utility = action_utility\n",
    "                    best_action = action\n",
    "            # if the best action choice is not currently the policy for s, update it\n",
    "            if best_action != policy[s]:\n",
    "                policy[s] = best_action\n",
    "                unchanged = False\n",
    "            \n",
    "        # if no policy values are changed, break!\n",
    "        if unchanged:\n",
    "            break\n",
    "    # final policy\n",
    "    return policy\n",
    "\n",
    "def policy_evaluation(policy, utility, MDP, n_iter):\n",
    "    # do a handful of value iteration updates of the input utility, under the given policy\n",
    "    for _ in range(n_iter):\n",
    "        updated_utility = {}\n",
    "        for s in MDP.states:\n",
    "            updated_utility[s] = MDP.reward(s) + MDP.discount * sum((next_state == MDP.result(s, policy[s])) * utility[next_state] for next_state in MDP.states)\n",
    "        utility = updated_utility\n",
    "    # updated utility\n",
    "    return utility\n",
    "\n",
    "# Create an MDP environment for L=4\n",
    "MDP = MDPLanding(4)\n",
    "\n",
    "# Perform policy iteration\n",
    "policy = policy_iteration(MDP)\n",
    "print(\"Policy for state (2,2,1):\", policy[(2,2,1)])\n",
    "print(\"Policy for state (0,2,1):\", policy[(0,2,1)])\n",
    "print(\"Policy for state (2,0,1):\", policy[(2,0,1)])"
   ]
  },
  {
   "cell_type": "markdown",
   "metadata": {},
   "source": [
    "The policy for the states make sense, given that the landing pad is located at (2,2,0). For the state (2,2,1), directly above the landing pad, the policy is for the drone to move down (z-1). For the state (0,2,1), the policy is for the drone to move East towards the landing pad (x+1). For the state (2,0,1), the policy is for the drone to move North towards the landing pad (y+1). Based on these values we can assume that our policy is optimized."
   ]
  },
  {
   "cell_type": "markdown",
   "metadata": {},
   "source": [
    "#### Part C\n",
    "\n",
    "Code up a **Q-learning** agent/algorithm to learn how to land the drone. You can do this however you like, as long as you use the MDP class structure defined above.  \n",
    "\n",
    "Your code should include some kind of a wrapper to run many trials to train the agent and learn the Q values (see Section 22.3 in the textbook - page 803 might be of particular interest).  You also do not need to have a separate function for the actual \"agent\"; your code can just be a \"for\" loop within which you are refining your estimate of the Q values.\n",
    "\n",
    "From each training trial, save the cumulative discounted reward (utility) over the course of that episode. That is, add up all of $\\gamma^t R(s_t)$ where the drone is in state $s_t$ during time step $t$, for the entire sequence. I refer to this as \"cumulative reward\" because we usually refer to \"utility\" as the utility *under an optimal policy*.\n",
    "\n",
    "Some guidelines:\n",
    "* The drone should initialize in a random non-terminal state for each new training episode.\n",
    "* The training episodes should be limited to 50 time steps, even if the drone has not yet landed. If the drone lands (in a terminal state), the training episode is over.\n",
    "* You may use whatever learning rate $\\alpha$ you decide is appropriate, and gives good results.\n",
    "* There are many forms of Q-learning. You can use whatever you would like, subject to the reliability targets in Part D below.\n",
    "* Your code should return:\n",
    "  * The learned Q values associated with each state-action pair.\n",
    "  * The cumulative reward for each training trial. \n",
    "  * Anything else that might be useful in the ensuing analysis."
   ]
  },
  {
   "cell_type": "code",
   "execution_count": 4,
   "metadata": {},
   "outputs": [],
   "source": [
    "def QLearning(MDP, num_trials):\n",
    "    # Define training parameters\n",
    "    epsilon = 0.9  # Rate at which the best learned actio is chosen\n",
    "    learning_rate = 0.9\n",
    "    # Initialize variables\n",
    "    nonterminal_states = [s for s in MDP.states if s[2] != 0]\n",
    "    cumulative_rewards = []\n",
    "    q_values = np.zeros((MDP.L+1, MDP.L+1, MDP.L+1, len(MDP.all_actions)))\n",
    "\n",
    "    for trial in range(num_trials):\n",
    "        # Initialize variables for each trial\n",
    "        cumulative_reward = 0\n",
    "        time_step = 0\n",
    "        current_state = random.choice(nonterminal_states)\n",
    "\n",
    "        # Continue taking actions until a terminal state is reached, or 50 actions have been taken\n",
    "        while current_state not in MDP.terminal_states and time_step < 50:\n",
    "            time_step += 1\n",
    "            \n",
    "            # Get next action (index)\n",
    "            if np.random.random() < epsilon:\n",
    "                action_index = np.argmax(q_values[current_state])\n",
    "            else:\n",
    "                action_index = np.random.randint(len(MDP.all_actions))\n",
    "            action = MDP.all_actions[action_index]\n",
    "\n",
    "            # Save old state and perform action\n",
    "            old_state = current_state\n",
    "            current_state = MDP.result(old_state, action)\n",
    "            \n",
    "            # Get reward from action and add to cumulative reward\n",
    "            reward = MDP.reward(current_state)\n",
    "            cumulative_reward += reward\n",
    "            \n",
    "            # Calculate q_value\n",
    "            old_q_value = q_values[old_state + (action_index,)]  # Use action_index to index properly\n",
    "            max_q_value = np.max(q_values[current_state])\n",
    "            temporal_difference = reward + (MDP.discount * max_q_value) - old_q_value\n",
    "\n",
    "            # Update q_value\n",
    "            new_q_value = old_q_value + (learning_rate * temporal_difference)\n",
    "            q_values[old_state + (action_index,)] = new_q_value\n",
    "\n",
    "        # Append cumulative reward\n",
    "        cumulative_rewards.append(cumulative_reward)\n",
    "\n",
    "    return q_values, cumulative_rewards\n",
    "    "
   ]
  },
  {
   "cell_type": "markdown",
   "metadata": {},
   "source": [
    "#### Part D\n",
    "\n",
    "Initialize the $L=10$ environment (so that the landing pad is at $(5,5,0)$). Run some number of training trials to train the drone.\n",
    "\n",
    "**How do I know if my drone is learned enough?**  If you take the mean cumulative reward across the last 5000 training trials, it should be around 0.80. This means at least about 10,000 (but probably more) training episodes will be necessary. It will take a few seconds on your computer, so start small to test your codes.\n",
    "\n",
    "**Then:** Compute block means of cumulative reward from all of your training trials. Use blocks of 500 training trials. This means you need to create some kind of array-like structure such that its first element is the mean of the first 500 trials' cumulative rewards; its second element is the mean of the 501-1000th trials' cumulative rewards; and so on. Make a plot of the block mean rewards as the training progresses. It should increase from about -0.5 initially to somewhere around +0.8.\n",
    "\n",
    "**And:** Print to the screen the mean of the last 5000 trials' cumulative rewards, to verify that it is indeed about 0.80."
   ]
  },
  {
   "cell_type": "code",
   "execution_count": 5,
   "metadata": {},
   "outputs": [
    {
     "data": {
      "image/png": "[encoded data removed]",
      "text/plain": [
       "<Figure size 640x480 with 1 Axes>"
      ]
     },
     "metadata": {},
     "output_type": "display_data"
    },
    {
     "name": "stdout",
     "output_type": "stream",
     "text": [
      "Mean of the last 5000 trials cumulative rewards: 0.78813\n"
     ]
    }
   ],
   "source": [
    "# Initialize the L=10 environment\n",
    "MDP = MDPLanding(10)\n",
    "\n",
    "# Run 5000 training trials\n",
    "q_values, cumulative_rewards = QLearning(MDP, 15000)  # Adjust the number of episodes as needed\n",
    "\n",
    "# Compute block means of cumulative rewards\n",
    "block_rewards = [np.mean(cumulative_rewards[i:i+500]) for i in range(0, len(cumulative_rewards), 500)]\n",
    "\n",
    "# Plot block mean rewards\n",
    "plt.plot(block_rewards)\n",
    "plt.xlabel('Block Number')\n",
    "plt.ylabel('Mean Reward')\n",
    "plt.title('Block Mean Rewards as the Training Progresses')\n",
    "plt.show()\n",
    "\n",
    "# Compute mean of the last 5000 trials' cumulative rewards\n",
    "mean_last_5000_trials = np.mean(cumulative_rewards[-5000:])\n",
    "print(\"Mean of the last 5000 trials cumulative rewards:\", mean_last_5000_trials)"
   ]
  },
  {
   "cell_type": "markdown",
   "metadata": {},
   "source": [
    "#### Part E\n",
    "\n",
    "**Question 1:** Why does the cumulative reward start off around -0.5 at the beginning of the training?\n",
    "\n",
    "**Question 2:** Why will it be difficult for us to train the drone to reliably obtain rewards much greater than about 0.8?"
   ]
  },
  {
   "cell_type": "markdown",
   "metadata": {},
   "source": [
    "**Question 1:** The cumulative reward initialy starts off at around -0.5 becuase early in the training random actions are chosen, as the drone does not yet know which actions are optimal. This results in a reward of approximatley -0.5.\n",
    "\n",
    "**Question 2:** It be difficult for us to train the drone to reliably obtain rewards much greater than about 0.8 because of the size of the state space, and the forced randomness of the chosen actions. If in later trials the rate of exploration was reduced, we might be able to approach a higher reward."
   ]
  },
  {
   "cell_type": "code",
   "execution_count": null,
   "metadata": {},
   "outputs": [],
   "source": []
  }
 ],
 "metadata": {
  "kernelspec": {
   "display_name": "Python 3 (ipykernel)",
   "language": "python",
   "name": "python3"
  },
  "language_info": {
   "codemirror_mode": {
    "name": "ipython",
    "version": 3
   },
   "file_extension": ".py",
   "mimetype": "text/x-python",
   "name": "python",
   "nbconvert_exporter": "python",
   "pygments_lexer": "ipython3",
   "version": "3.10.8"
  }
 },
 "nbformat": 4,
 "nbformat_minor": 4
}
