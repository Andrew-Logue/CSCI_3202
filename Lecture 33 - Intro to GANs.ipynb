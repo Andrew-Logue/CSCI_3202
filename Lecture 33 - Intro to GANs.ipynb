{
 "cells": [
  {
   "cell_type": "markdown",
   "id": "67a7b5f8-2a62-4348-b7c6-396e3e0eab32",
   "metadata": {},
   "source": [
    "### Lecture 33: Intro to GANs\n",
    "\n",
    "This notebook will cover the basics in how to set up and train a very simple Generative Adversarial Network.\n",
    "\n",
    "Source: https://realpython.com/generative-adversarial-networks/\n"
   ]
  },
  {
   "cell_type": "markdown",
   "id": "11e26595-b463-42f2-b2a1-d321401fd3cf",
   "metadata": {},
   "source": [
    "A generative adversarial network is a type of Machine Learning that generates new things sich as images or text. In short, it does this by learning how to mimic and find patterns within a given distribution of data."
   ]
  },
  {
   "cell_type": "markdown",
   "id": "a9636c34-dcaa-4206-a157-ed9465b66986",
   "metadata": {},
   "source": [
    "Why is a GAN **adversarial**? "
   ]
  },
  {
   "cell_type": "markdown",
   "id": "c6c4cfcb-c77a-4024-a072-48d7bbf71eee",
   "metadata": {},
   "source": [
    "A generative adversarial network is composed of two neural networks, one called the generator and one called the discriminator.\n",
    "\n",
    "- The _generator_ estimates the probability distribution of the real samples in order to provide generated samples resembling real data.\n",
    "\n",
    "- The _discriminator_ is trained to estimate the probability that a given sample came from the real data rather than being provided by the generator.\n",
    "\n",
    "The GAN training process consists of a two-player minimax game in which the discriminator adapts to minimize the discrimination error between the real and generated samples, and the generator adapts to maximize the probability of the discriminator making a mistake. "
   ]
  },
  {
   "cell_type": "code",
   "execution_count": 1,
   "id": "416984cd-7b43-4668-a95c-f380dac57fcc",
   "metadata": {},
   "outputs": [],
   "source": [
    "import torch\n",
    "from torch import nn"
   ]
  },
  {
   "cell_type": "code",
   "execution_count": 2,
   "id": "ff6e3444-8ce9-4822-bc24-80fc261a9afe",
   "metadata": {},
   "outputs": [],
   "source": [
    "import math\n",
    "import matplotlib.pyplot as plt"
   ]
  },
  {
   "cell_type": "code",
   "execution_count": 3,
   "id": "e0ee842e-be4f-447e-b5e5-b73cb16f6822",
   "metadata": {},
   "outputs": [
    {
     "data": {
      "text/plain": [
       "<torch._C.Generator at 0x7fa5186e9e10>"
      ]
     },
     "execution_count": 3,
     "metadata": {},
     "output_type": "execute_result"
    }
   ],
   "source": [
    "torch.manual_seed(111)"
   ]
  },
  {
   "cell_type": "markdown",
   "id": "4afb1adf-5b12-4a97-b0af-987df25ed576",
   "metadata": {},
   "source": [
    "**PART A:** We will consider a toy example with a dataset composed of two-dimensional samples $(x_1, x_2)$, with $x_1$ in the interval from $0$ to $2\\pi$ and $x_2 = \\sin(x_1)$.\n",
    "\n",
    "First, let's create training data. The training data will be comprised of $(x_1, x_2)$ pairs using the equation: $x_2 = sin(x_1)$. \n",
    "\n",
    "We will make a training set with 1024 pairs. Then we will initialize the training set to be a tensor with 1024 rows and 2 columns of zeros. We will use the first column of the training set to store random values from the interval $[0, 2\\pi]$, and the second column of the training set will be the sine of the first column.\n",
    "\n",
    "Next we will create a tensor of labels. Note that GANs are a form of unsupervised learning, so the labels can be anything.\n",
    "\n",
    "The PyTorch dataloader will expect a training set that is a list of tuples that contain the data itself and it's corresponding label."
   ]
  },
  {
   "cell_type": "code",
   "execution_count": 4,
   "id": "2c9e0524-2a32-4706-8db8-abc5e54a1b66",
   "metadata": {},
   "outputs": [],
   "source": [
    "train_data_length = 1024\n",
    "train_data = torch.zeros((train_data_length, 2))\n",
    "train_data[:, 0] = 2*math.pi*torch.rand(train_data_length)\n",
    "train_data[:, 1] = torch.sin(train_data[:, 0])\n",
    "train_labels = torch.zeros(train_data_length)\n",
    "train_set = [\n",
    "    (train_data[i], train_labels[i]) for i in range(train_data_length)\n",
    "]"
   ]
  },
  {
   "cell_type": "code",
   "execution_count": 5,
   "id": "8d99b0fd-0074-47f9-aa4d-fa985a00ad2d",
   "metadata": {},
   "outputs": [
    {
     "data": {
      "text/plain": [
       "[<matplotlib.lines.Line2D at 0x7fa54b191fa0>]"
      ]
     },
     "execution_count": 5,
     "metadata": {},
     "output_type": "execute_result"
    },
    {
     "data": {
      "image/png": "[encoded data removed]",
      "text/plain": [
       "<Figure size 640x480 with 1 Axes>"
      ]
     },
     "metadata": {},
     "output_type": "display_data"
    }
   ],
   "source": [
    "plt.plot(train_data[:,0], train_data[:, 1], \".\")"
   ]
  },
  {
   "cell_type": "markdown",
   "id": "ce6104e9-0591-4332-8fca-90735e3e3b43",
   "metadata": {},
   "source": [
    "Next, using the training set, we will create a data loader and specify a batch size. The batch size is the parameter that defines the number of samples to work through before updating model parameters."
   ]
  },
  {
   "cell_type": "code",
   "execution_count": 6,
   "id": "c710549a-413a-4bf0-be48-1f03f669b093",
   "metadata": {},
   "outputs": [],
   "source": [
    "batch_size = 32\n",
    "train_loader = torch.utils.data.DataLoader(\n",
    "    train_set, batch_size=batch_size, shuffle=True\n",
    ")"
   ]
  },
  {
   "cell_type": "markdown",
   "id": "10bbe4fa-2f16-4476-9b62-eead0b3295d3",
   "metadata": {},
   "source": [
    "**PART B:** Read over the following `Discriminator` class. The discriminator is a model with a two-dimensional input and a one-dimensional output. It will receive a sample from real data or from the generator and will provide the probability that the sample belongs to the real training data."
   ]
  },
  {
   "cell_type": "code",
   "execution_count": 7,
   "id": "f7c59055-c098-4748-85a2-a1d30b9920a5",
   "metadata": {},
   "outputs": [],
   "source": [
    "class Discriminator(nn.Module):\n",
    "    def __init__(self):\n",
    "        super().__init__()\n",
    "        self.model = nn.Sequential(\n",
    "            nn.Linear(2, 256),\n",
    "            nn.ReLU(),\n",
    "            nn.Dropout(0.3),\n",
    "            nn.Linear(256, 128),\n",
    "            nn.ReLU(),\n",
    "            nn.Dropout(0.3),\n",
    "            nn.Linear(128, 64),\n",
    "            nn.ReLU(),\n",
    "            nn.Dropout(0.3),\n",
    "            nn.Linear(64, 1),\n",
    "            nn.Sigmoid(),\n",
    "        )\n",
    "\n",
    "    def forward(self, x):\n",
    "        output = self.model(x)\n",
    "        return output"
   ]
  },
  {
   "cell_type": "code",
   "execution_count": 8,
   "id": "82df3a45-aab5-42bd-b618-bcf4d1e7599c",
   "metadata": {},
   "outputs": [],
   "source": [
    "# Instantiate a discriminator object\n",
    "discriminator = Discriminator()"
   ]
  },
  {
   "cell_type": "markdown",
   "id": "7baa1968-bb80-449f-b851-1c80f92dce49",
   "metadata": {},
   "source": [
    "**PART C:** Read over the `Generator` class. The generator is the model that takes samples from a latent space as its input and generates data resembling the data in the training set. "
   ]
  },
  {
   "cell_type": "code",
   "execution_count": 9,
   "id": "265ae6dc-915d-4ebf-819c-c1b93b67b2ed",
   "metadata": {},
   "outputs": [],
   "source": [
    "class Generator(nn.Module):\n",
    "    def __init__(self):\n",
    "        super().__init__()\n",
    "        self.model = nn.Sequential(\n",
    "            nn.Linear(2, 16),\n",
    "            nn.ReLU(),\n",
    "            nn.Linear(16, 32),\n",
    "            nn.ReLU(),\n",
    "            nn.Linear(32, 2),\n",
    "        )\n",
    "\n",
    "    def forward(self, x):\n",
    "        output = self.model(x)\n",
    "        return output\n",
    "\n",
    "generator = Generator()"
   ]
  },
  {
   "cell_type": "markdown",
   "id": "514d66df-8e2d-4d93-9d01-b625cad20e2b",
   "metadata": {},
   "source": [
    "**PART D**: Define the learning rate, the number of epochs, and a loss function."
   ]
  },
  {
   "cell_type": "code",
   "execution_count": 10,
   "id": "8713367a-2953-44a8-a913-d8878d0971f5",
   "metadata": {},
   "outputs": [],
   "source": [
    "lr = 0.001\n",
    "num_epochs = 300\n",
    "loss_function = nn.BCELoss()"
   ]
  },
  {
   "cell_type": "markdown",
   "id": "46f6dfb2-6483-4a0c-bfa7-93acfe49a250",
   "metadata": {},
   "source": [
    "**PART D:** Next, exectute the line of code given."
   ]
  },
  {
   "cell_type": "code",
   "execution_count": 11,
   "id": "4882dc09-953c-463c-8598-bfdb06760a78",
   "metadata": {},
   "outputs": [],
   "source": [
    "optimizer_discriminator = torch.optim.Adam(discriminator.parameters(), lr=lr)\n",
    "optimizer_generator = torch.optim.Adam(generator.parameters(), lr=lr)"
   ]
  },
  {
   "cell_type": "markdown",
   "id": "58093398-6aff-4b4b-8a73-c5bafbdb8b9d",
   "metadata": {},
   "source": [
    "**PART E:** Now implement a training loop to train the samples that are fed in. The weights will be updated to minimize the loss function."
   ]
  },
  {
   "cell_type": "code",
   "execution_count": 12,
   "id": "85c2ef2d-f56a-4ff2-ae3d-890630468561",
   "metadata": {},
   "outputs": [
    {
     "name": "stdout",
     "output_type": "stream",
     "text": [
      "Epoch: 0 Loss D.: 0.15663041174411774\n",
      "Epoch: 0 Loss G.: 2.1256043910980225\n",
      "Epoch: 10 Loss D.: 0.6571139693260193\n",
      "Epoch: 10 Loss G.: 0.8178414106369019\n",
      "Epoch: 20 Loss D.: 0.6383627653121948\n",
      "Epoch: 20 Loss G.: 0.9057258367538452\n",
      "Epoch: 30 Loss D.: 0.5879160761833191\n",
      "Epoch: 30 Loss G.: 0.7484802603721619\n",
      "Epoch: 40 Loss D.: 0.5586228370666504\n",
      "Epoch: 40 Loss G.: 1.01658034324646\n",
      "Epoch: 50 Loss D.: 0.6439600586891174\n",
      "Epoch: 50 Loss G.: 0.750975489616394\n",
      "Epoch: 60 Loss D.: 0.8144655823707581\n",
      "Epoch: 60 Loss G.: 0.5160590410232544\n",
      "Epoch: 70 Loss D.: 0.7321587800979614\n",
      "Epoch: 70 Loss G.: 0.7114300727844238\n",
      "Epoch: 80 Loss D.: 0.7137088775634766\n",
      "Epoch: 80 Loss G.: 0.6991386413574219\n",
      "Epoch: 90 Loss D.: 0.6631389856338501\n",
      "Epoch: 90 Loss G.: 0.7840858697891235\n",
      "Epoch: 100 Loss D.: 0.6799262762069702\n",
      "Epoch: 100 Loss G.: 0.7404754757881165\n",
      "Epoch: 110 Loss D.: 0.7509774565696716\n",
      "Epoch: 110 Loss G.: 0.7696004509925842\n",
      "Epoch: 120 Loss D.: 0.7215709090232849\n",
      "Epoch: 120 Loss G.: 0.7273547053337097\n",
      "Epoch: 130 Loss D.: 0.6622413992881775\n",
      "Epoch: 130 Loss G.: 0.703188419342041\n",
      "Epoch: 140 Loss D.: 0.6946632862091064\n",
      "Epoch: 140 Loss G.: 0.6925992965698242\n",
      "Epoch: 150 Loss D.: 0.6926003098487854\n",
      "Epoch: 150 Loss G.: 0.7213821411132812\n",
      "Epoch: 160 Loss D.: 0.6399837136268616\n",
      "Epoch: 160 Loss G.: 0.7938922643661499\n",
      "Epoch: 170 Loss D.: 0.6284487843513489\n",
      "Epoch: 170 Loss G.: 0.9073972105979919\n",
      "Epoch: 180 Loss D.: 0.6301829814910889\n",
      "Epoch: 180 Loss G.: 0.8984569907188416\n",
      "Epoch: 190 Loss D.: 0.6444313526153564\n",
      "Epoch: 190 Loss G.: 0.7657774686813354\n",
      "Epoch: 200 Loss D.: 0.6584961414337158\n",
      "Epoch: 200 Loss G.: 0.7495738863945007\n",
      "Epoch: 210 Loss D.: 0.6694570183753967\n",
      "Epoch: 210 Loss G.: 0.7973902225494385\n",
      "Epoch: 220 Loss D.: 0.6904834508895874\n",
      "Epoch: 220 Loss G.: 0.6619125008583069\n",
      "Epoch: 230 Loss D.: 0.6518740057945251\n",
      "Epoch: 230 Loss G.: 0.7334126830101013\n",
      "Epoch: 240 Loss D.: 0.6534653902053833\n",
      "Epoch: 240 Loss G.: 0.9075921773910522\n",
      "Epoch: 250 Loss D.: 0.6245113611221313\n",
      "Epoch: 250 Loss G.: 0.81345534324646\n",
      "Epoch: 260 Loss D.: 0.769706666469574\n",
      "Epoch: 260 Loss G.: 0.7364206314086914\n",
      "Epoch: 270 Loss D.: 0.6801453828811646\n",
      "Epoch: 270 Loss G.: 0.7295721769332886\n",
      "Epoch: 280 Loss D.: 0.6227221488952637\n",
      "Epoch: 280 Loss G.: 0.8287959098815918\n",
      "Epoch: 290 Loss D.: 0.643632709980011\n",
      "Epoch: 290 Loss G.: 0.8017207980155945\n"
     ]
    }
   ],
   "source": [
    "for epoch in range(num_epochs):\n",
    "    for n, (real_samples, _) in enumerate(train_loader):\n",
    "        # Data for training the discriminator\n",
    "        real_samples_labels = torch.ones((batch_size, 1))\n",
    "        latent_space_samples = torch.randn((batch_size, 2))\n",
    "        generated_samples = generator(latent_space_samples)\n",
    "        generated_samples_labels = torch.zeros((batch_size, 1))\n",
    "        all_samples = torch.cat((real_samples, generated_samples))\n",
    "        all_samples_labels = torch.cat(\n",
    "            (real_samples_labels, generated_samples_labels)\n",
    "        )\n",
    "\n",
    "        # Training the discriminator\n",
    "        discriminator.zero_grad()\n",
    "        output_discriminator = discriminator(all_samples)\n",
    "        loss_discriminator = loss_function(\n",
    "            output_discriminator, all_samples_labels)\n",
    "        loss_discriminator.backward()\n",
    "        optimizer_discriminator.step()\n",
    "\n",
    "        # Data for training the generator\n",
    "        latent_space_samples = torch.randn((batch_size, 2))\n",
    "\n",
    "        # Training the generator\n",
    "        generator.zero_grad()\n",
    "        generated_samples = generator(latent_space_samples)\n",
    "        output_discriminator_generated = discriminator(generated_samples)\n",
    "        loss_generator = loss_function(\n",
    "            output_discriminator_generated, real_samples_labels\n",
    "        )\n",
    "        loss_generator.backward()\n",
    "        optimizer_generator.step()\n",
    "\n",
    "        # Show loss\n",
    "        if epoch % 10 == 0 and n == batch_size - 1:\n",
    "            print(f\"Epoch: {epoch} Loss D.: {loss_discriminator}\")\n",
    "            print(f\"Epoch: {epoch} Loss G.: {loss_generator}\")"
   ]
  },
  {
   "cell_type": "markdown",
   "id": "26b859b2-a3d4-4b8c-a7eb-bdb5435dd8ee",
   "metadata": {},
   "source": [
    "**PART F:** After your model is finished training, you will draw ramdom samples from the latent space and feed them into the generator."
   ]
  },
  {
   "cell_type": "code",
   "execution_count": 13,
   "id": "84a4b9a8-4532-4f18-a2be-32b95a317cc1",
   "metadata": {},
   "outputs": [],
   "source": [
    "latent_space_samples = torch.randn(100, 2)\n",
    "generated_samples = generator(latent_space_samples)"
   ]
  },
  {
   "cell_type": "markdown",
   "id": "28603f19-3203-4161-adea-4580a4fa2dc4",
   "metadata": {},
   "source": [
    "**PART F** Plot the model that we developed."
   ]
  },
  {
   "cell_type": "code",
   "execution_count": 16,
   "id": "31ca338a-9820-4458-98ff-40bc6d2a31da",
   "metadata": {},
   "outputs": [
    {
     "data": {
      "text/plain": [
       "[<matplotlib.lines.Line2D at 0x7fa54b1ec640>]"
      ]
     },
     "execution_count": 16,
     "metadata": {},
     "output_type": "execute_result"
    },
    {
     "data": {
      "image/png": "[encoded data removed]",
      "text/plain": [
       "<Figure size 640x480 with 1 Axes>"
      ]
     },
     "metadata": {},
     "output_type": "display_data"
    }
   ],
   "source": [
    "generated_samples = generated_samples.detach()\n",
    "plt.plot(generated_samples[:,0], generated_samples[:,1], \".\")"
   ]
  },
  {
   "cell_type": "code",
   "execution_count": null,
   "id": "2bfda32f-d394-44b0-b4be-c8df6d7c34d6",
   "metadata": {},
   "outputs": [],
   "source": []
  }
 ],
 "metadata": {
  "kernelspec": {
   "display_name": "Python 3 (ipykernel)",
   "language": "python",
   "name": "python3"
  },
  "language_info": {
   "codemirror_mode": {
    "name": "ipython",
    "version": 3
   },
   "file_extension": ".py",
   "mimetype": "text/x-python",
   "name": "python",
   "nbconvert_exporter": "python",
   "pygments_lexer": "ipython3",
   "version": "3.10.8"
  }
 },
 "nbformat": 4,
 "nbformat_minor": 5
}
